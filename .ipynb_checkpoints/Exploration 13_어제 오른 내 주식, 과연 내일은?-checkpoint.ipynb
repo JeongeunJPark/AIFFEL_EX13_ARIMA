{
 "cells": [
  {
   "cell_type": "markdown",
   "metadata": {},
   "source": [
    "## 이 노드의 루브릭               \n",
    "\n",
    "1. 시계열의 안정성이 충분히 확인되었는가? >> 플로팅과 adfuller 메소드가 모두 적절히 사용되었음            \n",
    "2. ARIMA 모델 모수선택 근거를 체계적으로 제시하였는가? >> p,q를 위한 ACF, PACF 사용과 d를 위한 차분 과정이 명확히 제시됨          \n",
    "3. 예측 모델의 오차율이 기준 이하로 정확하게 나왔는가? >> 3개 이상의 종목이 MAPE 10% 미만의 정확도로 예측됨"
   ]
  },
  {
   "cell_type": "markdown",
   "metadata": {},
   "source": [
    "## 목차       \n",
    "\n",
    "__1. 시계열 데이터 준비__           \n",
    "- 칼럼 종류 7개(Date, Open, High, Close, Adj Close, Volume) 중 Close(종가)만 활용하여 예측한다.               \n",
    "\n",
    "__2. 각종 전처리 수행__  \n",
    "- 결측치 처리        \n",
    "- 로그 변환      \n",
    "\n",
    "__3. 시계열 안정성 분석__      \n",
    "- 정성적 그래프 분석    \n",
    "- 정량적 그래프 분석(Augmented Dicky-Fuller Test)     \n",
    "- 시계열 분해(Time Series Decomposition)        \n",
    "- Residual 안정성 확인           \n",
    "\n",
    "__4. 학습, 테스트 데이터셋 생성__        \n",
    "- 학습, 테스트에 대한 데이터셋 분리          \n",
    "\n",
    "__5. 적정한 ARIMA 모수 찾기__        \n",
    "- ACF, PACF 그려보기 -> p,q 정하기        \n",
    "- 차분 안정성 확인 -> d 구하기      \n",
    "\n",
    "__6. ARIMA 모델 훈련과 테스트__        \n",
    "- ARIMA 모델 빌드와 훈련       \n",
    "- 모델 테스트 및 플로팅      \n",
    "- 최종 예측 모델 정확도 측정(MAPE)        \n",
    "\n",
    "__7. 다른 주식 종목 예측해보기__        \n",
    "- 관심 종목을 골라 위 스텝 1~6을 반복해 보기"
   ]
  },
  {
   "cell_type": "markdown",
   "metadata": {},
   "source": [
    "## 1. 시계열 데이터 준비               \n",
    "\n",
    "### 데이터셋 로드"
   ]
  },
  {
   "cell_type": "code",
   "execution_count": 1,
   "metadata": {},
   "outputs": [
    {
     "name": "stdout",
     "output_type": "stream",
     "text": [
      "라이브러리 임포트 완료\n"
     ]
    }
   ],
   "source": [
    "#필요한 라이브러리 임포트\n",
    "import numpy as np\n",
    "import pandas as pd\n",
    "import matplotlib.pyplot as plt     \n",
    "import os\n",
    "\n",
    "print('라이브러리 임포트 완료')"
   ]
  },
  {
   "cell_type": "code",
   "execution_count": 17,
   "metadata": {},
   "outputs": [
    {
     "data": {
      "text/html": [
       "<div>\n",
       "<style scoped>\n",
       "    .dataframe tbody tr th:only-of-type {\n",
       "        vertical-align: middle;\n",
       "    }\n",
       "\n",
       "    .dataframe tbody tr th {\n",
       "        vertical-align: top;\n",
       "    }\n",
       "\n",
       "    .dataframe thead th {\n",
       "        text-align: right;\n",
       "    }\n",
       "</style>\n",
       "<table border=\"1\" class=\"dataframe\">\n",
       "  <thead>\n",
       "    <tr style=\"text-align: right;\">\n",
       "      <th></th>\n",
       "      <th>Date</th>\n",
       "      <th>Open</th>\n",
       "      <th>High</th>\n",
       "      <th>Low</th>\n",
       "      <th>Close</th>\n",
       "      <th>Adj Close</th>\n",
       "      <th>Volume</th>\n",
       "    </tr>\n",
       "  </thead>\n",
       "  <tbody>\n",
       "    <tr>\n",
       "      <th>0</th>\n",
       "      <td>2000-01-04</td>\n",
       "      <td>6000.0</td>\n",
       "      <td>6110.0</td>\n",
       "      <td>5660.0</td>\n",
       "      <td>6110.0</td>\n",
       "      <td>4761.183105</td>\n",
       "      <td>74195000.0</td>\n",
       "    </tr>\n",
       "    <tr>\n",
       "      <th>1</th>\n",
       "      <td>2000-01-05</td>\n",
       "      <td>5800.0</td>\n",
       "      <td>6060.0</td>\n",
       "      <td>5520.0</td>\n",
       "      <td>5580.0</td>\n",
       "      <td>4348.184082</td>\n",
       "      <td>74680000.0</td>\n",
       "    </tr>\n",
       "    <tr>\n",
       "      <th>2</th>\n",
       "      <td>2000-01-06</td>\n",
       "      <td>5750.0</td>\n",
       "      <td>5780.0</td>\n",
       "      <td>5580.0</td>\n",
       "      <td>5620.0</td>\n",
       "      <td>4379.354004</td>\n",
       "      <td>54390000.0</td>\n",
       "    </tr>\n",
       "    <tr>\n",
       "      <th>3</th>\n",
       "      <td>2000-01-07</td>\n",
       "      <td>5560.0</td>\n",
       "      <td>5670.0</td>\n",
       "      <td>5360.0</td>\n",
       "      <td>5540.0</td>\n",
       "      <td>4317.015625</td>\n",
       "      <td>40305000.0</td>\n",
       "    </tr>\n",
       "    <tr>\n",
       "      <th>4</th>\n",
       "      <td>2000-01-10</td>\n",
       "      <td>5600.0</td>\n",
       "      <td>5770.0</td>\n",
       "      <td>5580.0</td>\n",
       "      <td>5770.0</td>\n",
       "      <td>4496.240723</td>\n",
       "      <td>46880000.0</td>\n",
       "    </tr>\n",
       "  </tbody>\n",
       "</table>\n",
       "</div>"
      ],
      "text/plain": [
       "         Date    Open    High     Low   Close    Adj Close      Volume\n",
       "0  2000-01-04  6000.0  6110.0  5660.0  6110.0  4761.183105  74195000.0\n",
       "1  2000-01-05  5800.0  6060.0  5520.0  5580.0  4348.184082  74680000.0\n",
       "2  2000-01-06  5750.0  5780.0  5580.0  5620.0  4379.354004  54390000.0\n",
       "3  2000-01-07  5560.0  5670.0  5360.0  5540.0  4317.015625  40305000.0\n",
       "4  2000-01-10  5600.0  5770.0  5580.0  5770.0  4496.240723  46880000.0"
      ]
     },
     "execution_count": 17,
     "metadata": {},
     "output_type": "execute_result"
    }
   ],
   "source": [
    "dataset_file = os.getenv('HOME')+'/SUBMIT_MISSION_GIT/ex13_Arima/SamsungData/samsung_history.csv'\n",
    "\n",
    "dataframe = pd.read_csv(dataset_file)\n",
    "dataframe.head(5)"
   ]
  },
  {
   "cell_type": "markdown",
   "metadata": {},
   "source": [
    "> - 이 중에서, 필요한 데이터인 Date, Close만 Serise 데이터로 남긴다. "
   ]
  },
  {
   "cell_type": "code",
   "execution_count": 18,
   "metadata": {},
   "outputs": [
    {
     "data": {
      "text/html": [
       "<div>\n",
       "<style scoped>\n",
       "    .dataframe tbody tr th:only-of-type {\n",
       "        vertical-align: middle;\n",
       "    }\n",
       "\n",
       "    .dataframe tbody tr th {\n",
       "        vertical-align: top;\n",
       "    }\n",
       "\n",
       "    .dataframe thead th {\n",
       "        text-align: right;\n",
       "    }\n",
       "</style>\n",
       "<table border=\"1\" class=\"dataframe\">\n",
       "  <thead>\n",
       "    <tr style=\"text-align: right;\">\n",
       "      <th></th>\n",
       "      <th>Open</th>\n",
       "      <th>High</th>\n",
       "      <th>Low</th>\n",
       "      <th>Close</th>\n",
       "      <th>Adj Close</th>\n",
       "      <th>Volume</th>\n",
       "    </tr>\n",
       "    <tr>\n",
       "      <th>Date</th>\n",
       "      <th></th>\n",
       "      <th></th>\n",
       "      <th></th>\n",
       "      <th></th>\n",
       "      <th></th>\n",
       "      <th></th>\n",
       "    </tr>\n",
       "  </thead>\n",
       "  <tbody>\n",
       "    <tr>\n",
       "      <th>2000-01-04</th>\n",
       "      <td>6000.0</td>\n",
       "      <td>6110.0</td>\n",
       "      <td>5660.0</td>\n",
       "      <td>6110.0</td>\n",
       "      <td>4761.183105</td>\n",
       "      <td>74195000.0</td>\n",
       "    </tr>\n",
       "    <tr>\n",
       "      <th>2000-01-05</th>\n",
       "      <td>5800.0</td>\n",
       "      <td>6060.0</td>\n",
       "      <td>5520.0</td>\n",
       "      <td>5580.0</td>\n",
       "      <td>4348.184082</td>\n",
       "      <td>74680000.0</td>\n",
       "    </tr>\n",
       "    <tr>\n",
       "      <th>2000-01-06</th>\n",
       "      <td>5750.0</td>\n",
       "      <td>5780.0</td>\n",
       "      <td>5580.0</td>\n",
       "      <td>5620.0</td>\n",
       "      <td>4379.354004</td>\n",
       "      <td>54390000.0</td>\n",
       "    </tr>\n",
       "    <tr>\n",
       "      <th>2000-01-07</th>\n",
       "      <td>5560.0</td>\n",
       "      <td>5670.0</td>\n",
       "      <td>5360.0</td>\n",
       "      <td>5540.0</td>\n",
       "      <td>4317.015625</td>\n",
       "      <td>40305000.0</td>\n",
       "    </tr>\n",
       "    <tr>\n",
       "      <th>2000-01-10</th>\n",
       "      <td>5600.0</td>\n",
       "      <td>5770.0</td>\n",
       "      <td>5580.0</td>\n",
       "      <td>5770.0</td>\n",
       "      <td>4496.240723</td>\n",
       "      <td>46880000.0</td>\n",
       "    </tr>\n",
       "  </tbody>\n",
       "</table>\n",
       "</div>"
      ],
      "text/plain": [
       "              Open    High     Low   Close    Adj Close      Volume\n",
       "Date                                                               \n",
       "2000-01-04  6000.0  6110.0  5660.0  6110.0  4761.183105  74195000.0\n",
       "2000-01-05  5800.0  6060.0  5520.0  5580.0  4348.184082  74680000.0\n",
       "2000-01-06  5750.0  5780.0  5580.0  5620.0  4379.354004  54390000.0\n",
       "2000-01-07  5560.0  5670.0  5360.0  5540.0  4317.015625  40305000.0\n",
       "2000-01-10  5600.0  5770.0  5580.0  5770.0  4496.240723  46880000.0"
      ]
     },
     "execution_count": 18,
     "metadata": {},
     "output_type": "execute_result"
    }
   ],
   "source": [
    "df1 = pd.read_csv(dataset_file, index_col='Date', parse_dates=True)\n",
    "\n",
    "df1.head(5)"
   ]
  },
  {
   "cell_type": "code",
   "execution_count": 19,
   "metadata": {},
   "outputs": [
    {
     "data": {
      "text/html": [
       "<div>\n",
       "<style scoped>\n",
       "    .dataframe tbody tr th:only-of-type {\n",
       "        vertical-align: middle;\n",
       "    }\n",
       "\n",
       "    .dataframe tbody tr th {\n",
       "        vertical-align: top;\n",
       "    }\n",
       "\n",
       "    .dataframe thead th {\n",
       "        text-align: right;\n",
       "    }\n",
       "</style>\n",
       "<table border=\"1\" class=\"dataframe\">\n",
       "  <thead>\n",
       "    <tr style=\"text-align: right;\">\n",
       "      <th></th>\n",
       "      <th>Close</th>\n",
       "    </tr>\n",
       "    <tr>\n",
       "      <th>Date</th>\n",
       "      <th></th>\n",
       "    </tr>\n",
       "  </thead>\n",
       "  <tbody>\n",
       "    <tr>\n",
       "      <th>2000-01-04</th>\n",
       "      <td>6110.0</td>\n",
       "    </tr>\n",
       "    <tr>\n",
       "      <th>2000-01-05</th>\n",
       "      <td>5580.0</td>\n",
       "    </tr>\n",
       "    <tr>\n",
       "      <th>2000-01-06</th>\n",
       "      <td>5620.0</td>\n",
       "    </tr>\n",
       "    <tr>\n",
       "      <th>2000-01-07</th>\n",
       "      <td>5540.0</td>\n",
       "    </tr>\n",
       "    <tr>\n",
       "      <th>2000-01-10</th>\n",
       "      <td>5770.0</td>\n",
       "    </tr>\n",
       "  </tbody>\n",
       "</table>\n",
       "</div>"
      ],
      "text/plain": [
       "             Close\n",
       "Date              \n",
       "2000-01-04  6110.0\n",
       "2000-01-05  5580.0\n",
       "2000-01-06  5620.0\n",
       "2000-01-07  5540.0\n",
       "2000-01-10  5770.0"
      ]
     },
     "execution_count": 19,
     "metadata": {},
     "output_type": "execute_result"
    }
   ],
   "source": [
    "#index=date, 필요한 데이터=Close만 남긴 변수 samsung_close를 dataFrame 형으로 생성\n",
    "samsung_close = df1.loc[:, ['Close']]\n",
    "\n",
    "samsung_close.head(5)"
   ]
  },
  {
   "cell_type": "code",
   "execution_count": 20,
   "metadata": {},
   "outputs": [
    {
     "name": "stdout",
     "output_type": "stream",
     "text": [
      "sc의 데이터 타입 :  <class 'pandas.core.series.Series'>\n"
     ]
    },
    {
     "data": {
      "text/plain": [
       "Date\n",
       "2000-01-04    6110.0\n",
       "2000-01-05    5580.0\n",
       "2000-01-06    5620.0\n",
       "2000-01-07    5540.0\n",
       "2000-01-10    5770.0\n",
       "Name: Close, dtype: float64"
      ]
     },
     "execution_count": 20,
     "metadata": {},
     "output_type": "execute_result"
    }
   ],
   "source": [
    "#이를 Series로 변환 \n",
    "sc = df1['Close']\n",
    "print(\"sc의 데이터 타입 : \", type(sc))\n",
    "\n",
    "sc.head(5)"
   ]
  },
  {
   "cell_type": "markdown",
   "metadata": {},
   "source": [
    "> - Samsung의 역대 주식 데이터 중 '종가' 만 남긴 Serise 데이터를 생성하였다."
   ]
  },
  {
   "cell_type": "markdown",
   "metadata": {},
   "source": [
    "## 2. 각종 전처리 수행                       \n",
    "\n",
    "### 1. 결측치 처리       \n",
    "\n",
    "- 데이터 예측에 악영향을 미칠 수 있는 결측치가 존재하는지 여부를 확인한다.       \n",
    "- 이를 삭제하거나, 보간하여 대체할 수 있다."
   ]
  },
  {
   "cell_type": "code",
   "execution_count": 21,
   "metadata": {},
   "outputs": [
    {
     "data": {
      "text/plain": [
       "Date\n",
       "2005-01-03   NaN\n",
       "2017-11-16   NaN\n",
       "2017-11-23   NaN\n",
       "2018-01-02   NaN\n",
       "2018-11-15   NaN\n",
       "2019-11-14   NaN\n",
       "Name: Close, dtype: float64"
      ]
     },
     "execution_count": 21,
     "metadata": {},
     "output_type": "execute_result"
    }
   ],
   "source": [
    "#결측치가 있는 부분을 Series로 출력하도록 함\n",
    "sc[sc.isna()]"
   ]
  },
  {
   "cell_type": "code",
   "execution_count": 27,
   "metadata": {},
   "outputs": [
    {
     "name": "stdout",
     "output_type": "stream",
     "text": [
      "보간한 후 결측치의 숫자 :  0\n"
     ]
    },
    {
     "data": {
      "text/plain": [
       "[<matplotlib.lines.Line2D at 0x7f62235a4110>]"
      ]
     },
     "execution_count": 27,
     "metadata": {},
     "output_type": "execute_result"
    },
    {
     "data": {
      "image/png": "[encoded data removed]",
      "text/plain": [
       "<Figure size 432x288 with 1 Axes>"
      ]
     },
     "metadata": {
      "needs_background": "light"
     },
     "output_type": "display_data"
    }
   ],
   "source": [
    "#총 6개의 NaN값이 나왔고, 시리즈 데이터는 연속적이어야 하므로 결측치를 드롭하기보다는 보간처리하는 것이 좀 더 적합한 방법일 것이다.\n",
    "#라이브러리를 활용하여 보간처리       \n",
    "#시간(Date)를 기준으로 보간한다.\n",
    "sc = sc.interpolate(method='time')\n",
    "\n",
    "print('보간한 후 결측치의 숫자 : ', len(sc[sc.isna()]))\n",
    "\n",
    "plt.plot(sc)"
   ]
  },
  {
   "cell_type": "markdown",
   "metadata": {},
   "source": [
    "> - 결측치 6개에 대한 보간처리를 완료하였다."
   ]
  },
  {
   "cell_type": "markdown",
   "metadata": {},
   "source": [
    "### 2. 로그 변환            \n",
    "\n",
    "- 위의 그래프는 가격이 전체적으로 우상향하는 그래프이므로, 안정성을 갖춘 시계열 데이터인가의 여부를 판단하기 어렵다.        \n",
    "- 이 부분을 개선하기 위해, 로그함수 값을 변환한다."
   ]
  },
  {
   "cell_type": "code",
   "execution_count": 28,
   "metadata": {},
   "outputs": [
    {
     "data": {
      "text/plain": [
       "[<matplotlib.lines.Line2D at 0x7f6223402450>]"
      ]
     },
     "execution_count": 28,
     "metadata": {},
     "output_type": "execute_result"
    },
    {
     "data": {
      "image/png": "[encoded data removed]",
      "text/plain": [
       "<Figure size 432x288 with 1 Axes>"
      ]
     },
     "metadata": {
      "needs_background": "light"
     },
     "output_type": "display_data"
    }
   ],
   "source": [
    "sc_log = np.log(sc)\n",
    "plt.plot(sc_log)"
   ]
  },
  {
   "cell_type": "markdown",
   "metadata": {},
   "source": [
    "## 3. 시계열 안정성 분석               \n",
    "\n",
    "- 시계열 데이터의 안정성(Stationary)을 달성하려면 다음과 같은 조건이 필요하다.       \n",
    "1. 시간의 추이와 관계 없이 평균이 불변       \n",
    "2. 시간의 추이와 관계 없이 분산이 불변      \n",
    "3. 두 시점 간의 공분산이 기준 시점과 무관(하게 동일)\n",
    "\n",
    "- 따라서, 시계열 데이터의 예측을 위해 우리가 가져온 데이터가 위의 조건을 만족하는지 확인해야 하고,     \n",
    "- 이를 위해 __정성적 그래프 분석__ 과 __정량적 그래프 분석__ 을 수행한다.\n",
    "\n",
    "### 1. 정성적 그래프 분석                   "
   ]
  },
  {
   "cell_type": "code",
   "execution_count": 29,
   "metadata": {},
   "outputs": [
    {
     "data": {
      "text/plain": [
       "[<matplotlib.lines.Line2D at 0x7f6223371cd0>]"
      ]
     },
     "execution_count": 29,
     "metadata": {},
     "output_type": "execute_result"
    },
    {
     "data": {
      "image/png": "[encoded data removed]",
      "text/plain": [
       "<Figure size 432x288 with 1 Axes>"
      ]
     },
     "metadata": {
      "needs_background": "light"
     },
     "output_type": "display_data"
    }
   ],
   "source": [
    "#그래프 분석을 진행하기 전에 현재의 그래프를 재확인\n",
    "plt.plot(sc_log)"
   ]
  },
  {
   "cell_type": "code",
   "execution_count": 30,
   "metadata": {},
   "outputs": [
    {
     "name": "stdout",
     "output_type": "stream",
     "text": [
      "함수 세팅 완료\n"
     ]
    }
   ],
   "source": [
    "#일정한 시간 내의 구간 통계치를 시각화해보는 함수를 통해, 현재 시간의 입력 t와 다음 입력 t사이의 평균과 표준편차를 원본 시계열과 함께 시각화해 본다.\n",
    "def plot_rolling_statics(timeseries, window):\n",
    "    \n",
    "    #이동 평균, 이동 표준편차 시계열\n",
    "    rolmean = timeseries.rolling(window=window).mean()\n",
    "    rolstd = timeseries.rolling(window=window).std()\n",
    "    \n",
    "    #원본, 이동평균, 이동표준편차를 plot으로 시각화\n",
    "    origin = plt.plot(timeseries, color='blue', label='Original_data')\n",
    "    mean = plt.plot(rolmean, color='red', label='Rolling_mean')\n",
    "    std = plt.plot(rolstd, color='black', label='Rolling_std')\n",
    "    \n",
    "    plt.legend(loc='best')\n",
    "    plt.title('Rolling Means & Standard Deviation')\n",
    "    plt.show(block=False)\n",
    "    \n",
    "print('함수 세팅 완료')"
   ]
  },
  {
   "cell_type": "markdown",
   "metadata": {},
   "source": [
    "> - 이 그래프의 경우, 시간과 관련한 시계열 데이터이므로 window=12로 설정하는 것이 좋아보인다."
   ]
  },
  {
   "cell_type": "code",
   "execution_count": 33,
   "metadata": {},
   "outputs": [
    {
     "data": {
      "image/png": "[encoded data removed]",
      "text/plain": [
       "<Figure size 432x288 with 1 Axes>"
      ]
     },
     "metadata": {
      "needs_background": "light"
     },
     "output_type": "display_data"
    }
   ],
   "source": [
    "plot_rolling_statics(sc, window=12)"
   ]
  },
  {
   "cell_type": "markdown",
   "metadata": {},
   "source": [
    "### 정성적 그래프 확인 결과 -> 시각화하여 확인해 본 결과,\n",
    "\n",
    "> - 확인한 결과, __이동 평균과 original data의 흐름이 매우 비슷한 것을 확인할 수 있다.__             \n",
    "> - 따라서, __이 시계열 데이터는 stationary한 데이터이다__ 라고 할 수 있다.     "
   ]
  },
  {
   "cell_type": "markdown",
   "metadata": {},
   "source": [
    "### 2. 정량적 그래프 분석            \n",
    "\n",
    "- 위와 같이 정성적 그래프 분석을 통해 시계열 데이터가 stationary한 데이터일 것임을 확인했지만,         \n",
    "- 통계적인 방법(정량적 분석)을 통해 이 시계열 데이터의 stationary를 한 번 더 확인해본다.      "
   ]
  },
  {
   "cell_type": "markdown",
   "metadata": {},
   "source": [
    "### Augmented Dickey-Fuller Test(ADF Test)            \n",
    "\n",
    "- '주어진 시계열 데이터가 Non-stationary 하다.' 라는 귀무가설을 세운 후 통계적 가설 검정을 통해 이 가설을 채택할지/기각할지를 정한다.    \n",
    "- 특히, 이 방법에서는 p-value의 수치가 중요하다.   "
   ]
  },
  {
   "cell_type": "code",
   "execution_count": 34,
   "metadata": {},
   "outputs": [
    {
     "name": "stdout",
     "output_type": "stream",
     "text": [
      "함수 세팅 완료\n"
     ]
    }
   ],
   "source": [
    "#강력한 통계 패키지인 statmodels 패키지를 설치\n",
    "from statsmodels.tsa.stattools import adfuller\n",
    "\n",
    "def augmented_dickey_fuller_test(timeseries):\n",
    "    \n",
    "    #통계 패키지에서 제공하는 adfuller 메소드를 호출\n",
    "    dftest = adfuller(timeseries, autolag='AIC')\n",
    "    \n",
    "    print('Results of Dickey-Fuller Test : ')\n",
    "    dfoutput = pd.Series(dftest[0:4], index=['Test Statics', 'p-value', '#Lags Used', 'Number of Observations Used'])\n",
    "    \n",
    "    for key, value in dftest[4].items():\n",
    "        dfoutput['Critical Value(%s)'%key] = value\n",
    "        \n",
    "    print(dfoutput)\n",
    "    \n",
    "print('함수 세팅 완료')"
   ]
  },
  {
   "cell_type": "code",
   "execution_count": 35,
   "metadata": {},
   "outputs": [
    {
     "name": "stdout",
     "output_type": "stream",
     "text": [
      "Results of Dickey-Fuller Test : \n",
      "Test Statics                     -0.311819\n",
      "p-value                           0.923814\n",
      "#Lags Used                        4.000000\n",
      "Number of Observations Used    5314.000000\n",
      "Critical Value(1%)               -3.431581\n",
      "Critical Value(5%)               -2.862084\n",
      "Critical Value(10%)              -2.567060\n",
      "dtype: float64\n"
     ]
    }
   ],
   "source": [
    "#우리의 메인 시계열 데이터인 sc_log에 대한 ADF Test를 수행해본다.      \n",
    "\n",
    "augmented_dickey_fuller_test(sc_log)"
   ]
  },
  {
   "cell_type": "code",
   "execution_count": null,
   "metadata": {},
   "outputs": [],
   "source": []
  },
  {
   "cell_type": "code",
   "execution_count": null,
   "metadata": {},
   "outputs": [],
   "source": []
  },
  {
   "cell_type": "code",
   "execution_count": null,
   "metadata": {},
   "outputs": [],
   "source": []
  },
  {
   "cell_type": "code",
   "execution_count": null,
   "metadata": {},
   "outputs": [],
   "source": []
  },
  {
   "cell_type": "code",
   "execution_count": null,
   "metadata": {},
   "outputs": [],
   "source": []
  },
  {
   "cell_type": "code",
   "execution_count": null,
   "metadata": {},
   "outputs": [],
   "source": []
  },
  {
   "cell_type": "code",
   "execution_count": null,
   "metadata": {},
   "outputs": [],
   "source": []
  },
  {
   "cell_type": "code",
   "execution_count": null,
   "metadata": {},
   "outputs": [],
   "source": []
  },
  {
   "cell_type": "code",
   "execution_count": null,
   "metadata": {},
   "outputs": [],
   "source": []
  },
  {
   "cell_type": "code",
   "execution_count": null,
   "metadata": {},
   "outputs": [],
   "source": []
  },
  {
   "cell_type": "code",
   "execution_count": null,
   "metadata": {},
   "outputs": [],
   "source": []
  },
  {
   "cell_type": "code",
   "execution_count": null,
   "metadata": {},
   "outputs": [],
   "source": []
  },
  {
   "cell_type": "code",
   "execution_count": null,
   "metadata": {},
   "outputs": [],
   "source": []
  },
  {
   "cell_type": "code",
   "execution_count": null,
   "metadata": {},
   "outputs": [],
   "source": []
  },
  {
   "cell_type": "code",
   "execution_count": null,
   "metadata": {},
   "outputs": [],
   "source": []
  },
  {
   "cell_type": "code",
   "execution_count": null,
   "metadata": {},
   "outputs": [],
   "source": []
  },
  {
   "cell_type": "code",
   "execution_count": null,
   "metadata": {},
   "outputs": [],
   "source": []
  },
  {
   "cell_type": "code",
   "execution_count": null,
   "metadata": {},
   "outputs": [],
   "source": []
  },
  {
   "cell_type": "code",
   "execution_count": null,
   "metadata": {},
   "outputs": [],
   "source": []
  },
  {
   "cell_type": "code",
   "execution_count": null,
   "metadata": {},
   "outputs": [],
   "source": []
  },
  {
   "cell_type": "code",
   "execution_count": null,
   "metadata": {},
   "outputs": [],
   "source": []
  },
  {
   "cell_type": "code",
   "execution_count": null,
   "metadata": {},
   "outputs": [],
   "source": []
  }
 ],
 "metadata": {
  "kernelspec": {
   "display_name": "aiffel",
   "language": "python",
   "name": "aiffel"
  },
  "language_info": {
   "codemirror_mode": {
    "name": "ipython",
    "version": 3
   },
   "file_extension": ".py",
   "mimetype": "text/x-python",
   "name": "python",
   "nbconvert_exporter": "python",
   "pygments_lexer": "ipython3",
   "version": "3.7.9"
  }
 },
 "nbformat": 4,
 "nbformat_minor": 4
}
